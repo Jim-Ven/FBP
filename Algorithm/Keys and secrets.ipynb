{
 "cells": [
  {
   "cell_type": "code",
   "execution_count": 1,
   "metadata": {},
   "outputs": [],
   "source": [
    "import json\n",
    "\n",
    "# Enter your keys/secrets as strings in the following fields\n",
    "credentials = {}\n",
    "credentials['CONSUMER_KEY'] = 'Df8AlKnEVHcqAUhJHkJ7xWdgG'\n",
    "credentials['CONSUMER_SECRET'] = 'gElzasWpZyNlcZJD10IM8kpF6pXwTv9ZyF8ywwqMBIOCFWqSl1'\n",
    "credentials['ACCESS_TOKEN'] = '1386972782022496256-FXVmtnkpjuzatc5x3fiKnAj3mB2P0b'\n",
    "credentials['ACCESS_SECRET'] = '9zdeO7T9zUseSgFggBdGHHvLyZeB0HlO1KHCJzMBypkbl'\n",
    "\n",
    "# Save the credentials object to file\n",
    "with open(\"twitter_credentials.json\", \"w\") as file:\n",
    "    json.dump(credentials, file)"
   ]
  },
  {
   "cell_type": "code",
   "execution_count": null,
   "metadata": {},
   "outputs": [],
   "source": []
  }
 ],
 "metadata": {
  "kernelspec": {
   "display_name": "Python 3",
   "language": "python",
   "name": "python3"
  },
  "language_info": {
   "codemirror_mode": {
    "name": "ipython",
    "version": 3
   },
   "file_extension": ".py",
   "mimetype": "text/x-python",
   "name": "python",
   "nbconvert_exporter": "python",
   "pygments_lexer": "ipython3",
   "version": "3.8.5"
  }
 },
 "nbformat": 4,
 "nbformat_minor": 4
}
